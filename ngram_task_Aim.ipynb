{
 "cells": [
  {
   "cell_type": "code",
   "execution_count": 1,
   "metadata": {},
   "outputs": [],
   "source": [
    "from nltk.corpus import reuters\n",
    "from nltk import bigrams, trigrams\n",
    "from collections import Counter, defaultdict\n",
    "import numpy as np"
   ]
  },
  {
   "cell_type": "code",
   "execution_count": 2,
   "metadata": {},
   "outputs": [
    {
     "name": "stdout",
     "output_type": "stream",
     "text": [
      "['Be', 'Waja', 'Khamosh', 'Nahi', 'Hu', 'Main', 'Kuch', 'To', 'Bardasht', 'Kiya', 'Hoga']\n"
     ]
    }
   ],
   "source": [
    "arr = np.array([\"cvc\"])\n",
    "sentences = list(arr)\n",
    "sentences.append('other artists')\n",
    "\n",
    "f = open(\"Downloads/FINAL_DATASET.txt\", encoding=\"utf8\")\n",
    "#Snp.append(arr,x)\n",
    "i=0\n",
    "for x in f:\n",
    "    if 1==1091:\n",
    "        print(x)\n",
    "    sentences.append(x.split())\n",
    "    i+=1\n",
    "    #print(arr)\n",
    "#print(sentences[2])\n",
    "print(sentences[1092])\n"
   ]
  },
  {
   "cell_type": "code",
   "execution_count": 3,
   "metadata": {},
   "outputs": [],
   "source": [
    "def x_fun():\n",
    "  return defaultdict(int)"
   ]
  },
  {
   "cell_type": "code",
   "execution_count": 4,
   "metadata": {},
   "outputs": [],
   "source": [
    "# Create a placeholder for model\n",
    "model = defaultdict(x_fun)\n",
    "\n",
    "# Count frequency of co-occurance  \n",
    "for sentence in sentences:\n",
    "    for w1, w2, w3 in trigrams(sentence, pad_right=True, pad_left=True):\n",
    "        model[(w1, w2)][w3] += 1\n",
    " \n",
    "# Let's transform the counts to probabilities\n",
    "for w1_w2 in model:\n",
    "    total_count = float(sum(model[w1_w2].values()))\n",
    "    for w3 in model[w1_w2]:\n",
    "        model[w1_w2][w3] /= total_count"
   ]
  },
  {
   "cell_type": "code",
   "execution_count": 5,
   "metadata": {},
   "outputs": [],
   "source": [
    "import pickle\n",
    "f = open('ngram_model.pickle', 'wb')\n",
    "pickle.dump(model, f)\n",
    "f.close()\n"
   ]
  },
  {
   "cell_type": "code",
   "execution_count": 6,
   "metadata": {
    "pycharm": {
     "name": "#%%\n"
    }
   },
   "outputs": [
    {
     "data": {
      "text/plain": [
       "{'but': 0.08333333333333333,\n",
       " 'jldbaji': 0.08333333333333333,\n",
       " 'k': 0.08333333333333333,\n",
       " 'lahori': 0.08333333333333333,\n",
       " 'pi': 0.08333333333333333,\n",
       " 'is': 0.08333333333333333,\n",
       " 'isliye': 0.08333333333333333,\n",
       " 'khawaha': 0.08333333333333333,\n",
       " 'Ye': 0.16666666666666666,\n",
       " 'tha': 0.16666666666666666}"
      ]
     },
     "execution_count": 6,
     "metadata": {},
     "output_type": "execute_result"
    }
   ],
   "source": [
    "dict(model[\"sai\",\"kha\"])\n",
    "\n"
   ]
  }
 ],
 "metadata": {
  "kernelspec": {
   "display_name": "Python 3",
   "language": "python",
   "name": "python3"
  },
  "language_info": {
   "codemirror_mode": {
    "name": "ipython",
    "version": 3
   },
   "file_extension": ".py",
   "mimetype": "text/x-python",
   "name": "python",
   "nbconvert_exporter": "python",
   "pygments_lexer": "ipython3",
   "version": "3.6.10"
  }
 },
 "nbformat": 4,
 "nbformat_minor": 4
}